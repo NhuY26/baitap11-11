{
  "nbformat": 4,
  "nbformat_minor": 0,
  "metadata": {
    "colab": {
      "name": "bài-5.ipynb",
      "provenance": [],
      "authorship_tag": "ABX9TyND7UFm64VUF/9be/g/i1OV",
      "include_colab_link": true
    },
    "kernelspec": {
      "name": "python3",
      "display_name": "Python 3"
    },
    "language_info": {
      "name": "python"
    }
  },
  "cells": [
    {
      "cell_type": "markdown",
      "metadata": {
        "id": "view-in-github",
        "colab_type": "text"
      },
      "source": [
        "<a href=\"https://colab.research.google.com/github/NhuY26/baitap11-11/blob/main/b%C3%A0i_5.ipynb\" target=\"_parent\"><img src=\"https://colab.research.google.com/assets/colab-badge.svg\" alt=\"Open In Colab\"/></a>"
      ]
    },
    {
      "cell_type": "code",
      "metadata": {
        "colab": {
          "base_uri": "https://localhost:8080/"
        },
        "id": "rrDhg-U2DN6I",
        "outputId": "eaee7bc7-0b05-4fe8-f73d-ce70a75727db"
      },
      "source": [
        "#chuyen thanh in hoa\n",
        "print(\"con mèo cute\".upper())\n",
        "#chuyen thanh in thuong\n",
        "print(\"con mèo cute\".lower())"
      ],
      "execution_count": 16,
      "outputs": [
        {
          "output_type": "stream",
          "name": "stdout",
          "text": [
            "CON MÈO CUTE\n",
            "con mèo cute\n"
          ]
        }
      ]
    },
    {
      "cell_type": "code",
      "metadata": {
        "id": "UA9MM59VE0cl"
      },
      "source": [
        ""
      ],
      "execution_count": null,
      "outputs": []
    }
  ]
}