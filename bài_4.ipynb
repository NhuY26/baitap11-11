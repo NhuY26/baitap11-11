{
  "nbformat": 4,
  "nbformat_minor": 0,
  "metadata": {
    "colab": {
      "name": "bài-4.ipynb",
      "provenance": [],
      "authorship_tag": "ABX9TyN0qF4I9m8wUuXi4UKIv24X",
      "include_colab_link": true
    },
    "kernelspec": {
      "name": "python3",
      "display_name": "Python 3"
    },
    "language_info": {
      "name": "python"
    }
  },
  "cells": [
    {
      "cell_type": "markdown",
      "metadata": {
        "id": "view-in-github",
        "colab_type": "text"
      },
      "source": [
        "<a href=\"https://colab.research.google.com/github/NhuY26/baitap11-11/blob/main/b%C3%A0i_4.ipynb\" target=\"_parent\"><img src=\"https://colab.research.google.com/assets/colab-badge.svg\" alt=\"Open In Colab\"/></a>"
      ]
    },
    {
      "cell_type": "code",
      "metadata": {
        "colab": {
          "base_uri": "https://localhost:8080/"
        },
        "id": "rrDhg-U2DN6I",
        "outputId": "fe90d103-c76d-45f5-9bbc-4cc8e1ebd565"
      },
      "source": [
        "x = int(input(\"x = \"))\n",
        "y = int(input(\"y = \"))\n",
        "print( x >= y)\n",
        "print( x <= y)\n",
        "print( x > y)\n",
        "print( x < y)\n",
        "print( x != y)"
      ],
      "execution_count": 15,
      "outputs": [
        {
          "output_type": "stream",
          "name": "stdout",
          "text": [
            "x = 2\n",
            "y = 7\n",
            "False\n",
            "True\n",
            "False\n",
            "True\n",
            "True\n"
          ]
        }
      ]
    },
    {
      "cell_type": "code",
      "metadata": {
        "id": "UA9MM59VE0cl"
      },
      "source": [
        ""
      ],
      "execution_count": null,
      "outputs": []
    }
  ]
}