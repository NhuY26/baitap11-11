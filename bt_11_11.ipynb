{
  "nbformat": 4,
  "nbformat_minor": 0,
  "metadata": {
    "colab": {
      "name": "bt-11-11.ipynb",
      "provenance": [],
      "collapsed_sections": [],
      "authorship_tag": "ABX9TyNKogt+DBF0kEYFzY79p3PP",
      "include_colab_link": true
    },
    "kernelspec": {
      "name": "python3",
      "display_name": "Python 3"
    },
    "language_info": {
      "name": "python"
    }
  },
  "cells": [
    {
      "cell_type": "markdown",
      "metadata": {
        "id": "view-in-github",
        "colab_type": "text"
      },
      "source": [
        "<a href=\"https://colab.research.google.com/github/NhuY26/baitap11-11/blob/main/bt_11_11.ipynb\" target=\"_parent\"><img src=\"https://colab.research.google.com/assets/colab-badge.svg\" alt=\"Open In Colab\"/></a>"
      ]
    },
    {
      "cell_type": "code",
      "metadata": {
        "colab": {
          "base_uri": "https://localhost:8080/"
        },
        "id": "4rj9ZtyByogb",
        "outputId": "b87bf57a-e10d-4a2d-af98-5a6ddef7bbe8"
      },
      "source": [
        "#nhập vào số tiền đã vay\n",
        "loanAmount = float(input(\"so tien da vay: \"))\n",
        "#nhập vào lãi suất hàng tháng\n",
        "monthlyInteresRate = float(input('Nhap lai suat hang thang:'))\n",
        "#nhập vào số năm vay\n",
        "numberofyear = float(input('nhap vao so nam vay:'))\n",
        "#tính số tiền lãi phải trả hàng tháng\n",
        "monthlyPayment = (loanAmount*monthlyInteresRate)/(1-1/((1+monthlyInteresRate)**(numberofyear*12)))\n",
        "#In ra số tiền cần trả\n",
        "print(\"tong tien phai tra la: \", monthlyPayment)\n",
        "\n",
        "\n",
        "\n",
        "\n"
      ],
      "execution_count": null,
      "outputs": [
        {
          "output_type": "stream",
          "name": "stdout",
          "text": [
            "so tien da vay: 2000000000\n",
            "Nhap lai suat hang thang:0.00008\n",
            "nhap vao so nam vay:5\n",
            "tong tien phai tra la:  33414730.646272387\n"
          ]
        }
      ]
    },
    {
      "cell_type": "code",
      "metadata": {
        "colab": {
          "base_uri": "https://localhost:8080/"
        },
        "id": "CPREHJ316BCj",
        "outputId": "c2a33c13-6d53-4a9e-bbb0-8422bdf69ca7"
      },
      "source": [
        "#thêm thư viện math\n",
        "import math\n",
        "#nhập toạ độ điểm M(x1,y1)\n",
        "x1 = float(input('Nhap x1: '))\n",
        "y1 = float(input('Nhap y1: '))\n",
        "\n",
        "#nhập toạ độ điểm N(x2,y2)\n",
        "x2 = float(input('Nhap x2: '))\n",
        "y2 = float(input('Nhap y2: '))\n",
        "\n",
        "#khoảng cách giữa hai điểm MN\n",
        "khoangcach = math.sqrt((x2-x1)**2 + (y2-y1)**2)\n",
        "\n",
        "#in ra khoảng cách giữa 2 điểm MN\n",
        "print(khoangcach)"
      ],
      "execution_count": null,
      "outputs": [
        {
          "output_type": "stream",
          "name": "stdout",
          "text": [
            "Nhap x1: 3\n",
            "Nhap y1: 4\n",
            "Nhap x2: 5\n",
            "Nhap y2: 6\n",
            "2.8284271247461903\n"
          ]
        }
      ]
    }
  ]
}