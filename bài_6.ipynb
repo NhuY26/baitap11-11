{
  "nbformat": 4,
  "nbformat_minor": 0,
  "metadata": {
    "colab": {
      "name": "bài-6.ipynb",
      "provenance": [],
      "authorship_tag": "ABX9TyMOLSGNUDtXyzKJ6tufjmRv",
      "include_colab_link": true
    },
    "kernelspec": {
      "name": "python3",
      "display_name": "Python 3"
    },
    "language_info": {
      "name": "python"
    }
  },
  "cells": [
    {
      "cell_type": "markdown",
      "metadata": {
        "id": "view-in-github",
        "colab_type": "text"
      },
      "source": [
        "<a href=\"https://colab.research.google.com/github/NhuY26/baitap11-11/blob/main/b%C3%A0i_6.ipynb\" target=\"_parent\"><img src=\"https://colab.research.google.com/assets/colab-badge.svg\" alt=\"Open In Colab\"/></a>"
      ]
    },
    {
      "cell_type": "code",
      "metadata": {
        "colab": {
          "base_uri": "https://localhost:8080/"
        },
        "id": "Kpc2_2HQVA6t",
        "outputId": "29508836-ad2b-4d1f-a13e-e77b6c371121"
      },
      "source": [
        "print('''một hai ba \n",
        "bốn năm sáu bảy\n",
        " tám chín mười''')"
      ],
      "execution_count": 2,
      "outputs": [
        {
          "output_type": "stream",
          "name": "stdout",
          "text": [
            "một hai ba \n",
            "bốn năm sáu bảy\n",
            " tám chín mười\n"
          ]
        }
      ]
    }
  ]
}