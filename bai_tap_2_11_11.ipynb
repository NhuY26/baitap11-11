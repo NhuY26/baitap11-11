{
  "nbformat": 4,
  "nbformat_minor": 0,
  "metadata": {
    "colab": {
      "name": "bai-tap-2-11-11.ipynb",
      "provenance": [],
      "collapsed_sections": [],
      "authorship_tag": "ABX9TyPCoJ+JZWF1Me894hq+0jc/",
      "include_colab_link": true
    },
    "kernelspec": {
      "name": "python3",
      "display_name": "Python 3"
    },
    "language_info": {
      "name": "python"
    }
  },
  "cells": [
    {
      "cell_type": "markdown",
      "metadata": {
        "id": "view-in-github",
        "colab_type": "text"
      },
      "source": [
        "<a href=\"https://colab.research.google.com/github/NhuY26/baitap11-11/blob/main/bai_tap_2_11_11.ipynb\" target=\"_parent\"><img src=\"https://colab.research.google.com/assets/colab-badge.svg\" alt=\"Open In Colab\"/></a>"
      ]
    },
    {
      "cell_type": "code",
      "metadata": {
        "colab": {
          "base_uri": "https://localhost:8080/"
        },
        "id": "flbLXu3i1ltR",
        "outputId": "b13f5a9c-fd94-4425-c778-aff43c1ca13b"
      },
      "source": [
        "#Your code here\n",
        "\n",
        "a = input(\"a=\")\n",
        "b= input(\"b=\")\n",
        "a = int(a)\n",
        "b= int(b)\n",
        "c=a+b\n",
        "print(\"a+b\",c)"
      ],
      "execution_count": null,
      "outputs": [
        {
          "output_type": "stream",
          "name": "stdout",
          "text": [
            "a=4\n",
            "b=5\n",
            "a+b 9\n"
          ]
        }
      ]
    },
    {
      "cell_type": "code",
      "metadata": {
        "colab": {
          "base_uri": "https://localhost:8080/"
        },
        "id": "BAf-AezI8R3_",
        "outputId": "acc57f80-1c68-4851-a798-6da9fcb9a449"
      },
      "source": [
        "#Your code here\n",
        "\n",
        "a = input(\"a=\")\n",
        "b= input(\"b=\")\n",
        "a = int(a)\n",
        "b= int(b)\n",
        "c=a*b\n",
        "print(\"a+b\",c)"
      ],
      "execution_count": null,
      "outputs": [
        {
          "output_type": "stream",
          "name": "stdout",
          "text": [
            "a=4\n",
            "b=5\n",
            "a+b 20\n"
          ]
        }
      ]
    },
    {
      "cell_type": "code",
      "metadata": {
        "colab": {
          "base_uri": "https://localhost:8080/"
        },
        "id": "CnHO6wRb8iQx",
        "outputId": "71632357-c30c-4c4a-f3cf-fe3cd5e61cfb"
      },
      "source": [
        "#Your code here\n",
        "\n",
        "a = input(\"a=\")\n",
        "b= input(\"b=\")\n",
        "a = int(a)\n",
        "b= int(b)\n",
        "c=a-b\n",
        "print(\"a+b\",c)"
      ],
      "execution_count": null,
      "outputs": [
        {
          "output_type": "stream",
          "name": "stdout",
          "text": [
            "a=4\n",
            "b=5\n",
            "a+b -1\n"
          ]
        }
      ]
    },
    {
      "cell_type": "code",
      "metadata": {
        "colab": {
          "base_uri": "https://localhost:8080/"
        },
        "id": "ovVKRE_d8tQc",
        "outputId": "8088e423-7493-4f65-9dbf-30af1f23c19b"
      },
      "source": [
        "#Your code here\n",
        "\n",
        "a = input(\"a=\")\n",
        "b= input(\"b=\")\n",
        "a = int(a)\n",
        "b= int(b)\n",
        "c=a/b\n",
        "print(\"a+b\",c)"
      ],
      "execution_count": null,
      "outputs": [
        {
          "output_type": "stream",
          "name": "stdout",
          "text": [
            "a=4\n",
            "b=5\n",
            "a+b 0.8\n"
          ]
        }
      ]
    },
    {
      "cell_type": "code",
      "metadata": {
        "colab": {
          "base_uri": "https://localhost:8080/"
        },
        "id": "fOPaUfmE9A30",
        "outputId": "6810f278-9a03-441b-d204-ab6ba7db769d"
      },
      "source": [
        "#Your code here\n",
        "\n",
        "a = input(\"a=\")\n",
        "b= input(\"b=\")\n",
        "a = int(a)\n",
        "b= int(b)\n",
        "c=a//b\n",
        "print(\"a+b\",c)"
      ],
      "execution_count": null,
      "outputs": [
        {
          "output_type": "stream",
          "name": "stdout",
          "text": [
            "a=4\n",
            "b=5\n",
            "a+b 0\n"
          ]
        }
      ]
    }
  ]
}