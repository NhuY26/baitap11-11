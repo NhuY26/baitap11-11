{
  "nbformat": 4,
  "nbformat_minor": 0,
  "metadata": {
    "colab": {
      "name": "bài 2.ipynb",
      "provenance": [],
      "authorship_tag": "ABX9TyPEBBH6cFy15vkCVwpH5Npw",
      "include_colab_link": true
    },
    "kernelspec": {
      "name": "python3",
      "display_name": "Python 3"
    },
    "language_info": {
      "name": "python"
    }
  },
  "cells": [
    {
      "cell_type": "markdown",
      "metadata": {
        "id": "view-in-github",
        "colab_type": "text"
      },
      "source": [
        "<a href=\"https://colab.research.google.com/github/NhuY26/baitap11-11/blob/main/b%C3%A0i_2.ipynb\" target=\"_parent\"><img src=\"https://colab.research.google.com/assets/colab-badge.svg\" alt=\"Open In Colab\"/></a>"
      ]
    },
    {
      "cell_type": "code",
      "metadata": {
        "colab": {
          "base_uri": "https://localhost:8080/"
        },
        "id": "saNDgv4mKT0y",
        "outputId": "13ebedec-428f-488b-cc0c-b8c042f4de65"
      },
      "source": [
        "import math\n",
        "x=float(input(\"x= \"))\n",
        "y=float(input(\"y= \"))\n",
        "#Tri tuyet doi\n",
        "a=abs(x)\n",
        "print(\"tri tuyet doi cua x la \", a)\n",
        "#Lay phan nguyen cua so\n",
        "a=int(x)\n",
        "print(\"phan nguyen cua x la \",a)\n",
        "#Chuyen doi thanh so thuc\n",
        "a=float(x)\n",
        "print(\"chuyen doi x thanh so thuc\",a)\n",
        "#Tinh luy thua x mu y\n",
        "a=x**y\n",
        "print(\"luy thua \", a)\n",
        "#Tinh can bac hai\n",
        "a = math.sqrt(abs(x))\n",
        "print(\"can bac hai cua x la \",a)"
      ],
      "execution_count": 8,
      "outputs": [
        {
          "output_type": "stream",
          "name": "stdout",
          "text": [
            "x= 3\n",
            "y= 5\n",
            "tri tuyet doi cua x la  3.0\n",
            "phan nguyen cua x la  3\n",
            "chuyen doi x thanh so thuc 3.0\n",
            "luy thua  243.0\n",
            "can bac hai cua x la  1.7320508075688772\n"
          ]
        }
      ]
    }
  ]
}