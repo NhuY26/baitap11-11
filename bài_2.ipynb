{
  "nbformat": 4,
  "nbformat_minor": 0,
  "metadata": {
    "colab": {
      "name": "bài 2.ipynb",
      "provenance": [],
      "authorship_tag": "ABX9TyMkRKK1ZNMpQYQJ/bHI2NXj",
      "include_colab_link": true
    },
    "kernelspec": {
      "name": "python3",
      "display_name": "Python 3"
    },
    "language_info": {
      "name": "python"
    }
  },
  "cells": [
    {
      "cell_type": "markdown",
      "metadata": {
        "id": "view-in-github",
        "colab_type": "text"
      },
      "source": [
        "<a href=\"https://colab.research.google.com/github/NhuY26/baitap11-11/blob/main/b%C3%A0i_2.ipynb\" target=\"_parent\"><img src=\"https://colab.research.google.com/assets/colab-badge.svg\" alt=\"Open In Colab\"/></a>"
      ]
    },
    {
      "cell_type": "code",
      "metadata": {
        "colab": {
          "base_uri": "https://localhost:8080/"
        },
        "id": "saNDgv4mKT0y",
        "outputId": "db1de452-b077-4fa1-a399-4add7ebb7b54"
      },
      "source": [
        "#Bai2\n",
        "#Nhập 2 số \n",
        "a = float(input(\"So a: \"))\n",
        "b = float(input(\"So b: \"))\n",
        "\n",
        "#Tính và in ra tổng\n",
        "tong = a + b\n",
        "print(\"a + b = \",tong)\n",
        "\n",
        "#Tính và in ra tích\n",
        "tich = a * b\n",
        "print(\"a * b = \",tich)\n",
        "\n",
        "#Tính và in ra hiệu\n",
        "hieu = a - b\n",
        "print(\"a - b = \",hieu)\n",
        "\n",
        "#Tính và in ra thương\n",
        "thuong = a / b\n",
        "print(\"a / b = \", thuong)"
      ],
      "execution_count": 1,
      "outputs": [
        {
          "output_type": "stream",
          "name": "stdout",
          "text": [
            "So a: 2.1\n",
            "So b: 1.2\n",
            "a + b =  3.3\n",
            "a * b =  2.52\n",
            "a - b =  0.9000000000000001\n",
            "a / b =  1.7500000000000002\n"
          ]
        }
      ]
    }
  ]
}